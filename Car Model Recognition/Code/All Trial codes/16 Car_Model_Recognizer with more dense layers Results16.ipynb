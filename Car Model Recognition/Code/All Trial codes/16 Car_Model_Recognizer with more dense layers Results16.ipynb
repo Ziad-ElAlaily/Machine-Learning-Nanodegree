{
 "cells": [
  {
   "cell_type": "markdown",
   "metadata": {},
   "source": [
    "# Car Make and Model Recognizer\n",
    "I shall explore here my tries to reach a good optimizer"
   ]
  },
  {
   "cell_type": "markdown",
   "metadata": {},
   "source": [
    "## Importing Libraries"
   ]
  },
  {
   "cell_type": "code",
   "execution_count": null,
   "metadata": {},
   "outputs": [],
   "source": [
    "from keras.layers import Conv2D, MaxPooling2D, GlobalAveragePooling2D, Dropout, Flatten, Dense, BatchNormalization\n",
    "from keras.models import Sequential\n",
    "from keras.preprocessing.image import ImageDataGenerator\n",
    "from sklearn.datasets import load_files       \n",
    "from keras.utils import np_utils\n",
    "import numpy as np\n",
    "import matplotlib.pyplot as plt\n",
    "import pandas as pd \n",
    "from glob import glob"
   ]
  },
  {
   "cell_type": "markdown",
   "metadata": {},
   "source": [
    "## Pre-Processing\n",
    "\n",
    "### Data Augmentation"
   ]
  },
  {
   "cell_type": "code",
   "execution_count": null,
   "metadata": {},
   "outputs": [],
   "source": [
    "train_datagen = ImageDataGenerator(rescale=1./255,\n",
    "                                   zoom_range=0.25,\n",
    "                                   rotation_range = 90,\n",
    "                                   horizontal_flip=True)\n",
    "test_datagen = ImageDataGenerator(rescale=1./255,\n",
    "                                 horizontal_flip = True)\n",
    "\n",
    "train_data = train_datagen.flow_from_directory('My_Cars/train',\n",
    "                                              target_size=(128,128),\n",
    "                                              batch_size=32,\n",
    "                                              class_mode='categorical')\n",
    "test_data = test_datagen.flow_from_directory('My_Cars/test',\n",
    "                                              target_size=(128,128),\n",
    "                                              batch_size=32,\n",
    "                                              class_mode='categorical')"
   ]
  },
  {
   "cell_type": "markdown",
   "metadata": {},
   "source": [
    "## Model"
   ]
  },
  {
   "cell_type": "code",
   "execution_count": null,
   "metadata": {},
   "outputs": [],
   "source": [
    "model = Sequential()\n",
    "\n",
    "#First Layer\n",
    "model.add(Conv2D(filters=32, kernel_size=6,padding='same', input_shape=(128, 128, 3), activation='relu'))\n",
    "model.add(MaxPooling2D(pool_size=2,strides = 4))\n",
    "model.add(BatchNormalization())\n",
    "#model.add(Dropout(0.25))\n",
    "#Second Layer\n",
    "model.add(Conv2D(filters=64, kernel_size=6, activation='relu'))\n",
    "model.add(MaxPooling2D(pool_size=2,strides = 4))\n",
    "model.add(BatchNormalization())\n",
    "#model.add(Dropout(0.25))\n",
    "#Third Layer\n",
    "model.add(Conv2D(filters=128, kernel_size=6, activation='relu'))\n",
    "model.add(MaxPooling2D(pool_size=2,strides = 4))\n",
    "model.add(Dropout(0.25))\n",
    "model.add(BatchNormalization())\n",
    "#Fourth Layer\n",
    "model.add(Conv2D(filters=64, kernel_size=6,padding='same', activation='relu'))\n",
    "model.add(MaxPooling2D(pool_size=1,strides = 4))\n",
    "model.add(Dropout(0.25))\n",
    "\n",
    "#model.add(GlobalAveragePooling2D())\n",
    "#Last Layer\n",
    "model.add(Flatten())\n",
    "model.add(Dense(512, activation = 'relu'))\n",
    "model.add(BatchNormalization())\n",
    "model.add(Dense(512, activation = 'relu'))\n",
    "model.add(BatchNormalization())\n",
    "\n",
    "model.add(Dense(196, activation='softmax'))\n",
    "\n",
    "model.compile(optimizer='rmsprop', loss='categorical_crossentropy', metrics=['accuracy'])\n"
   ]
  },
  {
   "cell_type": "code",
   "execution_count": null,
   "metadata": {},
   "outputs": [],
   "source": [
    "model.summary()"
   ]
  },
  {
   "cell_type": "markdown",
   "metadata": {},
   "source": [
    "### Train"
   ]
  },
  {
   "cell_type": "code",
   "execution_count": null,
   "metadata": {
    "scrolled": false
   },
   "outputs": [],
   "source": [
    "from keras.callbacks import ModelCheckpoint  \n",
    "\n",
    "### TODO: specify the number of epochs that you would like to use to train the model.\n",
    "\n",
    "epochs = 30\n",
    "\n",
    "### Do NOT modify the code below this line.\n",
    "\n",
    "checkpointer = ModelCheckpoint(filepath='Saved_Models/weights.best.from_scratch16.hdf5', \n",
    "                               verbose=1, save_best_only=True)\n",
    "\n",
    "Saving = model.fit_generator(train_data,\n",
    "          steps_per_epoch=256,  \n",
    "          epochs=epochs,\n",
    "          verbose=1, \n",
    "          validation_data=test_data,\n",
    "          validation_steps=251,\n",
    "          callbacks=[checkpointer])\n",
    "# model.fit(train_data, test_data,\n",
    "#                   callbacks = [checkpointer],\n",
    "#                   validation_split = 0.33,\n",
    "#                   epochs=epochs,\n",
    "#           batch_size = 20,\n",
    "#           verbose=1)"
   ]
  },
  {
   "cell_type": "code",
   "execution_count": null,
   "metadata": {},
   "outputs": [],
   "source": [
    "\n",
    "vals = pd.DataFrame.from_dict(Saving.history)\n",
    "vals = pd.concat([pd.Series(range(0,100),name='epochs'),vals],axis=1)\n",
    "vals.head(n=31)"
   ]
  },
  {
   "cell_type": "code",
   "execution_count": null,
   "metadata": {},
   "outputs": [],
   "source": [
    "import seaborn as sns\n",
    "sns.set_style({'xtick.bottom':False,\n",
    "               'ytick.left':False,\n",
    "               'axes.spines.bottom': False,\n",
    "               'axes.spines.left': False,\n",
    "               'axes.spines.right': False,\n",
    "               'axes.spines.top': False})\n",
    "\n",
    "ig,(ax,ax1) = plt.subplots(nrows=2,ncols=1,figsize=(20,20))\n",
    "sns.scatterplot(x='epochs',y='acc',data=vals,ax=ax,color='r')\n",
    "sns.lineplot(x='epochs',y='val_acc',data=vals,ax=ax,color='g')\n",
    "sns.scatterplot(x='epochs',y='loss',data=vals,ax=ax1,color='r')\n",
    "sns.lineplot(x='epochs',y='val_loss',data=vals,ax=ax1,color='g')\n",
    "ax.legend(labels=['Test Accuracy','Training Accuracy'])\n",
    "ax1.legend(labels=['Test Loss','Training Loss'])"
   ]
  },
  {
   "cell_type": "code",
   "execution_count": null,
   "metadata": {},
   "outputs": [],
   "source": [
    "# for i in range(n_iterations):\n",
    "#         print('\\r{}/{}'. format(i, n_iterations))\n",
    "#         #initilaize random hyperparameters\n",
    "#         random_parameters = {K: random.sample(V, 1)[0] for K, V in parameters_grid.items()}\n",
    "#         #create model with random hyperparameters\n",
    "#         model = create_model(random_parameters)\n",
    "#         opt = create_RMSprop_optimizer(random_parameters)\n",
    "#         #compile model\n",
    "#         model.compile(optimizer = opt, loss='categorical_crossentropy', metrics=['accuracy'])\n",
    "#         #train model\n",
    "#         epochs = 40\n",
    "#         checkpointer = ModelCheckpoint(filepath='saved_models/model_weights.hdf5', verbose=1, save_best_only=True)\n",
    "#         early_stopping = EarlyStopping(monitor = 'val_loss', mode = 'min', verbose = 1, patience = 8)\n",
    "#         history = model.fit(X_train, Y_train,\n",
    "#                   callbacks = [checkpointer, early_stopping],\n",
    "#                   validation_split = 0.33,\n",
    "#                   epochs=epochs, batch_size = 20, verbose=1)\n",
    "#         #compare current min validation loss with global min validation loss\n",
    "#         current_min_val_loss = np.min(history.history['val_loss'])\n",
    "#         if(current_min_val_loss < global_min_val_loss):\n",
    "#             global_min_val_loss = current_min_val_loss\n",
    "#             #save the best model so far\n",
    "#             model.load_weights('saved_models/model_weights.hdf5')\n",
    "#             model.save('saved_models/best_model.h5')\n",
    "#             print('saving new best model, val_loss = {}'.format(current_min_val_loss))\n",
    "#             #save best hyperparameters\n",
    "#             best_hyperparameters = random_parameters"
   ]
  }
 ],
 "metadata": {
  "kernelspec": {
   "display_name": "Python 3",
   "language": "python",
   "name": "python3"
  },
  "language_info": {
   "codemirror_mode": {
    "name": "ipython",
    "version": 3
   },
   "file_extension": ".py",
   "mimetype": "text/x-python",
   "name": "python",
   "nbconvert_exporter": "python",
   "pygments_lexer": "ipython3",
   "version": "3.7.3"
  }
 },
 "nbformat": 4,
 "nbformat_minor": 2
}
