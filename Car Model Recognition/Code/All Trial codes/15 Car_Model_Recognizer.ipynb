{
 "cells": [
  {
   "cell_type": "markdown",
   "metadata": {},
   "source": [
    "# Car Make and Model Recognizer\n"
   ]
  },
  {
   "cell_type": "markdown",
   "metadata": {},
   "source": [
    "## Importing Libraries"
   ]
  },
  {
   "cell_type": "code",
   "execution_count": 1,
   "metadata": {},
   "outputs": [
    {
     "name": "stderr",
     "output_type": "stream",
     "text": [
      "Using TensorFlow backend.\n"
     ]
    }
   ],
   "source": [
    "from keras.layers import Conv2D, MaxPooling2D, GlobalAveragePooling2D, Dropout, Flatten, Dense, BatchNormalization\n",
    "from keras.models import Sequential\n",
    "from keras.preprocessing.image import ImageDataGenerator\n",
    "from sklearn.datasets import load_files       \n",
    "from keras.utils import np_utils\n",
    "import numpy as np\n",
    "import matplotlib.pyplot as plt\n",
    "import pandas as pd \n",
    "from glob import glob"
   ]
  },
  {
   "cell_type": "markdown",
   "metadata": {},
   "source": [
    "## Pre-Processing\n",
    "\n",
    "### Data Augmentation\n",
    "First ImageDataGenerator is used to set the parameters of Augmenting and specifying the validation set\n",
    "flow_from_directory creates image generators with target sizes and batches sizes specified, categorical class mode means we are dealing with a classifying problem "
   ]
  },
  {
   "cell_type": "code",
   "execution_count": 2,
   "metadata": {},
   "outputs": [
    {
     "name": "stdout",
     "output_type": "stream",
     "text": [
      "Found 8144 images belonging to 196 classes.\n",
      "Found 8041 images belonging to 196 classes.\n"
     ]
    }
   ],
   "source": [
    "train_datagen = ImageDataGenerator(rescale=1./255,\n",
    "                                   zoom_range=0.25,\n",
    "                                   rotation_range = 90,\n",
    "                                   horizontal_flip=True)\n",
    "test_datagen = ImageDataGenerator(rescale=1./255,\n",
    "                                 horizontal_flip = True)\n",
    "\n",
    "train_data = train_datagen.flow_from_directory('My_Cars/train',\n",
    "                                              target_size=(128,128),\n",
    "                                              batch_size=32,\n",
    "                                              class_mode='categorical')\n",
    "test_data = test_datagen.flow_from_directory('My_Cars/test',\n",
    "                                              target_size=(128,128),\n",
    "                                              batch_size=32,\n",
    "                                              class_mode='categorical')"
   ]
  },
  {
   "cell_type": "markdown",
   "metadata": {},
   "source": [
    "## Model\n",
    "3 layers were used in this model"
   ]
  },
  {
   "cell_type": "code",
   "execution_count": 3,
   "metadata": {},
   "outputs": [
    {
     "name": "stdout",
     "output_type": "stream",
     "text": [
      "WARNING:tensorflow:From C:\\Users\\CostaPC2\\Anaconda3\\lib\\site-packages\\tensorflow\\python\\framework\\op_def_library.py:263: colocate_with (from tensorflow.python.framework.ops) is deprecated and will be removed in a future version.\n",
      "Instructions for updating:\n",
      "Colocations handled automatically by placer.\n",
      "WARNING:tensorflow:From C:\\Users\\CostaPC2\\Anaconda3\\lib\\site-packages\\keras\\backend\\tensorflow_backend.py:3445: calling dropout (from tensorflow.python.ops.nn_ops) with keep_prob is deprecated and will be removed in a future version.\n",
      "Instructions for updating:\n",
      "Please use `rate` instead of `keep_prob`. Rate should be set to `rate = 1 - keep_prob`.\n"
     ]
    }
   ],
   "source": [
    "model = Sequential()\n",
    "#Building the model\n",
    "#First Layer\n",
    "model.add(Conv2D(filters=32, kernel_size=6,padding='same', input_shape=(128, 128, 3), activation='relu'))\n",
    "model.add(MaxPooling2D(pool_size=2,strides = 4))\n",
    "model.add(BatchNormalization())\n",
    "#model.add(Dropout(0.25))\n",
    "#Second Layer\n",
    "model.add(Conv2D(filters=64, kernel_size=6, activation='relu'))\n",
    "model.add(MaxPooling2D(pool_size=2,strides = 4))\n",
    "model.add(BatchNormalization())\n",
    "#model.add(Dropout(0.25))\n",
    "#Third Layer\n",
    "model.add(Conv2D(filters=128, kernel_size=6, activation='relu'))\n",
    "model.add(MaxPooling2D(pool_size=2,strides = 4))\n",
    "model.add(Dropout(0.25))\n",
    "model.add(BatchNormalization())\n",
    "#Fourth Layer\n",
    "# model.add(Conv2D(filters=256, kernel_size=2,padding='same', activation='relu'))\n",
    "# model.add(MaxPooling2D(pool_size=2,strides = 4))\n",
    "#model.add(Dropout(0.25))\n",
    "\n",
    "#model.add(GlobalAveragePooling2D())\n",
    "#Hidden Layer\n",
    "model.add(Dense(512, activation = 'relu'))\n",
    "model.add(BatchNormalization())\n",
    "model.add(Dense(512, activation = 'relu'))\n",
    "model.add(BatchNormalization())\n",
    "#output layer\n",
    "model.add(Flatten())\n",
    "model.add(Dense(196, activation='softmax'))\n",
    "#compile models\n",
    "model.compile(optimizer='rmsprop', loss='categorical_crossentropy', metrics=['accuracy'])\n"
   ]
  },
  {
   "cell_type": "code",
   "execution_count": null,
   "metadata": {},
   "outputs": [
    {
     "name": "stdout",
     "output_type": "stream",
     "text": [
      "_________________________________________________________________\n",
      "Layer (type)                 Output Shape              Param #   \n",
      "=================================================================\n",
      "conv2d_1 (Conv2D)            (None, 128, 128, 32)      3488      \n",
      "_________________________________________________________________\n",
      "max_pooling2d_1 (MaxPooling2 (None, 32, 32, 32)        0         \n",
      "_________________________________________________________________\n",
      "batch_normalization_1 (Batch (None, 32, 32, 32)        128       \n",
      "_________________________________________________________________\n",
      "conv2d_2 (Conv2D)            (None, 27, 27, 64)        73792     \n",
      "_________________________________________________________________\n",
      "max_pooling2d_2 (MaxPooling2 (None, 7, 7, 64)          0         \n",
      "_________________________________________________________________\n",
      "batch_normalization_2 (Batch (None, 7, 7, 64)          256       \n",
      "_________________________________________________________________\n",
      "conv2d_3 (Conv2D)            (None, 2, 2, 128)         295040    \n",
      "_________________________________________________________________\n",
      "max_pooling2d_3 (MaxPooling2 (None, 1, 1, 128)         0         \n",
      "_________________________________________________________________\n",
      "dropout_1 (Dropout)          (None, 1, 1, 128)         0         \n",
      "_________________________________________________________________\n",
      "batch_normalization_3 (Batch (None, 1, 1, 128)         512       \n",
      "_________________________________________________________________\n",
      "dense_1 (Dense)              (None, 1, 1, 512)         66048     \n",
      "_________________________________________________________________\n",
      "batch_normalization_4 (Batch (None, 1, 1, 512)         2048      \n",
      "_________________________________________________________________\n",
      "dense_2 (Dense)              (None, 1, 1, 512)         262656    \n",
      "_________________________________________________________________\n",
      "batch_normalization_5 (Batch (None, 1, 1, 512)         2048      \n",
      "_________________________________________________________________\n",
      "flatten_1 (Flatten)          (None, 512)               0         \n",
      "_________________________________________________________________\n",
      "dense_3 (Dense)              (None, 196)               100548    \n",
      "=================================================================\n",
      "Total params: 806,564\n",
      "Trainable params: 804,068\n",
      "Non-trainable params: 2,496\n",
      "_________________________________________________________________\n"
     ]
    }
   ],
   "source": [
    "#Show Architecture\n",
    "model.summary()"
   ]
  },
  {
   "cell_type": "markdown",
   "metadata": {},
   "source": [
    "### Train"
   ]
  },
  {
   "cell_type": "code",
   "execution_count": null,
   "metadata": {
    "scrolled": false
   },
   "outputs": [
    {
     "name": "stdout",
     "output_type": "stream",
     "text": [
      "WARNING:tensorflow:From C:\\Users\\CostaPC2\\Anaconda3\\lib\\site-packages\\tensorflow\\python\\ops\\math_ops.py:3066: to_int32 (from tensorflow.python.ops.math_ops) is deprecated and will be removed in a future version.\n",
      "Instructions for updating:\n",
      "Use tf.cast instead.\n",
      "Epoch 1/30\n",
      "256/256 [==============================] - 164s 640ms/step - loss: 5.6335 - acc: 0.0112 - val_loss: 5.8675 - val_acc: 0.0139\n",
      "\n",
      "Epoch 00001: val_loss improved from inf to 5.86751, saving model to Saved_Models/weights.best.from_scratch15.hdf5\n",
      "Epoch 2/30\n",
      "256/256 [==============================] - 158s 617ms/step - loss: 5.3233 - acc: 0.0153 - val_loss: 5.5289 - val_acc: 0.0131\n",
      "\n",
      "Epoch 00002: val_loss improved from 5.86751 to 5.52890, saving model to Saved_Models/weights.best.from_scratch15.hdf5\n",
      "Epoch 3/30\n",
      "256/256 [==============================] - 156s 610ms/step - loss: 5.2065 - acc: 0.0172 - val_loss: 5.4188 - val_acc: 0.0160\n",
      "\n",
      "Epoch 00003: val_loss improved from 5.52890 to 5.41883, saving model to Saved_Models/weights.best.from_scratch15.hdf5\n",
      "Epoch 4/30\n",
      "256/256 [==============================] - 159s 621ms/step - loss: 5.1162 - acc: 0.0260 - val_loss: 6.3457 - val_acc: 0.0167\n",
      "\n",
      "Epoch 00004: val_loss did not improve from 5.41883\n",
      "Epoch 5/30\n",
      "256/256 [==============================] - 156s 610ms/step - loss: 5.0544 - acc: 0.0264 - val_loss: 5.2586 - val_acc: 0.0228\n",
      "\n",
      "Epoch 00005: val_loss improved from 5.41883 to 5.25856, saving model to Saved_Models/weights.best.from_scratch15.hdf5\n",
      "Epoch 6/30\n",
      "256/256 [==============================] - 159s 621ms/step - loss: 4.9972 - acc: 0.0304 - val_loss: 5.5194 - val_acc: 0.0200\n",
      "\n",
      "Epoch 00006: val_loss did not improve from 5.25856\n",
      "Epoch 7/30\n",
      "256/256 [==============================] - 165s 643ms/step - loss: 4.9192 - acc: 0.0364 - val_loss: 5.7142 - val_acc: 0.0152\n",
      "\n",
      "Epoch 00007: val_loss did not improve from 5.25856\n",
      "Epoch 8/30\n",
      "256/256 [==============================] - 163s 636ms/step - loss: 4.8718 - acc: 0.0437 - val_loss: 5.2011 - val_acc: 0.0256\n",
      "\n",
      "Epoch 00008: val_loss improved from 5.25856 to 5.20109, saving model to Saved_Models/weights.best.from_scratch15.hdf5\n",
      "Epoch 9/30\n",
      "256/256 [==============================] - 161s 628ms/step - loss: 4.8207 - acc: 0.0454 - val_loss: 5.0771 - val_acc: 0.0352\n",
      "\n",
      "Epoch 00009: val_loss improved from 5.20109 to 5.07711, saving model to Saved_Models/weights.best.from_scratch15.hdf5\n",
      "Epoch 10/30\n",
      "256/256 [==============================] - 160s 626ms/step - loss: 4.7865 - acc: 0.0504 - val_loss: 4.9912 - val_acc: 0.0441\n",
      "\n",
      "Epoch 00010: val_loss improved from 5.07711 to 4.99120, saving model to Saved_Models/weights.best.from_scratch15.hdf5\n",
      "Epoch 11/30\n",
      "256/256 [==============================] - 160s 625ms/step - loss: 4.7188 - acc: 0.0525 - val_loss: 5.0345 - val_acc: 0.0390\n",
      "\n",
      "Epoch 00011: val_loss did not improve from 4.99120\n",
      "Epoch 12/30\n",
      "256/256 [==============================] - 160s 624ms/step - loss: 4.6819 - acc: 0.0579 - val_loss: 5.0028 - val_acc: 0.0412\n",
      "\n",
      "Epoch 00012: val_loss did not improve from 4.99120\n",
      "Epoch 13/30\n",
      "256/256 [==============================] - 164s 640ms/step - loss: 4.6354 - acc: 0.0610 - val_loss: 5.0755 - val_acc: 0.0398\n",
      "\n",
      "Epoch 00013: val_loss did not improve from 4.99120\n",
      "Epoch 14/30\n",
      "256/256 [==============================] - 168s 654ms/step - loss: 4.6071 - acc: 0.0629 - val_loss: 5.0189 - val_acc: 0.0391\n",
      "\n",
      "Epoch 00014: val_loss did not improve from 4.99120\n",
      "Epoch 15/30\n",
      "256/256 [==============================] - 163s 635ms/step - loss: 4.5604 - acc: 0.0677 - val_loss: 5.1306 - val_acc: 0.0375\n",
      "\n",
      "Epoch 00015: val_loss did not improve from 4.99120\n",
      "Epoch 16/30\n",
      "256/256 [==============================] - 162s 631ms/step - loss: 4.5042 - acc: 0.0712 - val_loss: 5.2185 - val_acc: 0.0308\n",
      "\n",
      "Epoch 00016: val_loss did not improve from 4.99120\n",
      "Epoch 17/30\n",
      "256/256 [==============================] - 162s 634ms/step - loss: 4.4867 - acc: 0.0748 - val_loss: 4.8844 - val_acc: 0.0524\n",
      "\n",
      "Epoch 00017: val_loss improved from 4.99120 to 4.88443, saving model to Saved_Models/weights.best.from_scratch15.hdf5\n",
      "Epoch 18/30\n",
      "256/256 [==============================] - 160s 626ms/step - loss: 4.4401 - acc: 0.0807 - val_loss: 4.8145 - val_acc: 0.0588\n",
      "\n",
      "Epoch 00018: val_loss improved from 4.88443 to 4.81454, saving model to Saved_Models/weights.best.from_scratch15.hdf5\n",
      "Epoch 19/30\n",
      "256/256 [==============================] - 158s 618ms/step - loss: 4.4037 - acc: 0.0846 - val_loss: 5.2505 - val_acc: 0.0368\n",
      "\n",
      "Epoch 00019: val_loss did not improve from 4.81454\n",
      "Epoch 20/30\n",
      "256/256 [==============================] - 157s 612ms/step - loss: 4.3569 - acc: 0.0891 - val_loss: 4.9411 - val_acc: 0.0499\n",
      "\n",
      "Epoch 00020: val_loss did not improve from 4.81454\n",
      "Epoch 21/30\n",
      "256/256 [==============================] - 159s 622ms/step - loss: 4.3341 - acc: 0.0947 - val_loss: 5.0478 - val_acc: 0.0457\n",
      "\n",
      "Epoch 00021: val_loss did not improve from 4.81454\n",
      "Epoch 22/30\n",
      "256/256 [==============================] - 162s 631ms/step - loss: 4.2837 - acc: 0.1018 - val_loss: 4.8571 - val_acc: 0.0551\n",
      "\n",
      "Epoch 00022: val_loss did not improve from 4.81454\n",
      "Epoch 23/30\n",
      "256/256 [==============================] - 169s 659ms/step - loss: 4.2500 - acc: 0.1028 - val_loss: 4.8179 - val_acc: 0.0634\n",
      "\n",
      "Epoch 00023: val_loss did not improve from 4.81454\n",
      "Epoch 24/30\n",
      "256/256 [==============================] - 166s 648ms/step - loss: 4.2028 - acc: 0.1083 - val_loss: 4.9939 - val_acc: 0.0553\n",
      "\n",
      "Epoch 00024: val_loss did not improve from 4.81454\n",
      "Epoch 25/30\n",
      "256/256 [==============================] - 160s 627ms/step - loss: 4.1926 - acc: 0.1107 - val_loss: 4.8621 - val_acc: 0.0593\n",
      "\n",
      "Epoch 00025: val_loss did not improve from 4.81454\n",
      "Epoch 26/30\n",
      "256/256 [==============================] - 156s 608ms/step - loss: 4.1500 - acc: 0.1184 - val_loss: 5.0955 - val_acc: 0.0436\n",
      "\n",
      "Epoch 00026: val_loss did not improve from 4.81454\n",
      "Epoch 27/30\n",
      "256/256 [==============================] - 155s 604ms/step - loss: 4.1094 - acc: 0.1221 - val_loss: 4.9589 - val_acc: 0.0536\n",
      "\n",
      "Epoch 00027: val_loss did not improve from 4.81454\n",
      "Epoch 28/30\n",
      "254/256 [============================>.] - ETA: 0s - loss: 4.0931 - acc: 0.1203"
     ]
    }
   ],
   "source": [
    "from keras.callbacks import ModelCheckpoint  \n",
    "\n",
    "### Number of epochs to train.\n",
    "\n",
    "epochs = 30\n",
    "\n",
    "### Checkpointer to save best the best weights.\n",
    "\n",
    "checkpointer = ModelCheckpoint(filepath='Saved_Models/weights.best.from_scratch15.hdf5', \n",
    "                               verbose=1, save_best_only=True)\n",
    "## Training the Model\n",
    "## pass training samples generator\n",
    "## steps per epochs = number of training samples / batch size\n",
    "## number of epochs\n",
    "## pass validation samples generator\n",
    "## validation steps = number of validation samples / batch size\n",
    "## pass checkpointer\n",
    "Saving = model.fit_generator(train_data,\n",
    "          steps_per_epoch=256,  \n",
    "          epochs=epochs,\n",
    "          verbose=1, \n",
    "          validation_data=test_data,\n",
    "          validation_steps=251,\n",
    "          callbacks=[checkpointer])\n",
    "# model.fit(train_data, test_data,\n",
    "#                   callbacks = [checkpointer],\n",
    "#                   validation_split = 0.33,\n",
    "#                   epochs=epochs,\n",
    "#           batch_size = 20,\n",
    "#           verbose=1)"
   ]
  },
  {
   "cell_type": "markdown",
   "metadata": {},
   "source": [
    "## Showing Results\n",
    "Show top 31 entries"
   ]
  },
  {
   "cell_type": "code",
   "execution_count": null,
   "metadata": {},
   "outputs": [],
   "source": [
    "\n",
    "vals = pd.DataFrame.from_dict(Saving.history)\n",
    "vals = pd.concat([pd.Series(range(0,100),name='epochs'),vals],axis=1)\n",
    "vals.head(n=31)"
   ]
  },
  {
   "cell_type": "markdown",
   "metadata": {},
   "source": [
    "Showing graphs of the results"
   ]
  },
  {
   "cell_type": "code",
   "execution_count": null,
   "metadata": {},
   "outputs": [],
   "source": [
    "import seaborn as sns\n",
    "sns.set_style({'xtick.bottom':False,\n",
    "               'ytick.left':False,\n",
    "               'axes.spines.bottom': False,\n",
    "               'axes.spines.left': False,\n",
    "               'axes.spines.right': False,\n",
    "               'axes.spines.top': False})\n",
    "\n",
    "ig,(ax,ax1) = plt.subplots(nrows=2,ncols=1,figsize=(20,20))\n",
    "sns.scatterplot(x='epochs',y='acc',data=vals,ax=ax,color='r')\n",
    "sns.lineplot(x='epochs',y='val_acc',data=vals,ax=ax,color='g')\n",
    "sns.scatterplot(x='epochs',y='loss',data=vals,ax=ax1,color='r')\n",
    "sns.lineplot(x='epochs',y='val_loss',data=vals,ax=ax1,color='g')\n",
    "ax.legend(labels=['Test Accuracy','Training Accuracy'])\n",
    "ax1.legend(labels=['Test Loss','Training Loss'])"
   ]
  },
  {
   "cell_type": "code",
   "execution_count": null,
   "metadata": {},
   "outputs": [],
   "source": [
    "# for i in range(n_iterations):\n",
    "#         print('\\r{}/{}'. format(i, n_iterations))\n",
    "#         #initilaize random hyperparameters\n",
    "#         random_parameters = {K: random.sample(V, 1)[0] for K, V in parameters_grid.items()}\n",
    "#         #create model with random hyperparameters\n",
    "#         model = create_model(random_parameters)\n",
    "#         opt = create_RMSprop_optimizer(random_parameters)\n",
    "#         #compile model\n",
    "#         model.compile(optimizer = opt, loss='categorical_crossentropy', metrics=['accuracy'])\n",
    "#         #train model\n",
    "#         epochs = 40\n",
    "#         checkpointer = ModelCheckpoint(filepath='saved_models/model_weights.hdf5', verbose=1, save_best_only=True)\n",
    "#         early_stopping = EarlyStopping(monitor = 'val_loss', mode = 'min', verbose = 1, patience = 8)\n",
    "#         history = model.fit(X_train, Y_train,\n",
    "#                   callbacks = [checkpointer, early_stopping],\n",
    "#                   validation_split = 0.33,\n",
    "#                   epochs=epochs, batch_size = 20, verbose=1)\n",
    "#         #compare current min validation loss with global min validation loss\n",
    "#         current_min_val_loss = np.min(history.history['val_loss'])\n",
    "#         if(current_min_val_loss < global_min_val_loss):\n",
    "#             global_min_val_loss = current_min_val_loss\n",
    "#             #save the best model so far\n",
    "#             model.load_weights('saved_models/model_weights.hdf5')\n",
    "#             model.save('saved_models/best_model.h5')\n",
    "#             print('saving new best model, val_loss = {}'.format(current_min_val_loss))\n",
    "#             #save best hyperparameters\n",
    "#             best_hyperparameters = random_parameters"
   ]
  }
 ],
 "metadata": {
  "kernelspec": {
   "display_name": "Python 3",
   "language": "python",
   "name": "python3"
  },
  "language_info": {
   "codemirror_mode": {
    "name": "ipython",
    "version": 3
   },
   "file_extension": ".py",
   "mimetype": "text/x-python",
   "name": "python",
   "nbconvert_exporter": "python",
   "pygments_lexer": "ipython3",
   "version": "3.7.3"
  }
 },
 "nbformat": 4,
 "nbformat_minor": 2
}
